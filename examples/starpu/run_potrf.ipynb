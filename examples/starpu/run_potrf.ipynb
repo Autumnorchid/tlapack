{
 "cells": [
  {
   "cell_type": "code",
   "execution_count": 1,
   "metadata": {},
   "outputs": [],
   "source": [
    "import os\n",
    "pwd = os.getcwd()\n",
    "\n",
    "# Paths to sources\n",
    "blaspp_source = \"/home/weslleyp/storage/blaspp\"\n",
    "lapackpp_source = \"/home/weslleyp/storage/lapackpp\"\n",
    "tlapack_source = \"/home/weslleyp/storage/tlapack\"\n",
    "\n",
    "# Paths to libraries\n",
    "tlapack_DIR = pwd+\"/tlapack\"\n",
    "tlapackLAPACK_DIR = pwd+\"/tlapack_LAPACK\"\n",
    "blaspp_DIR = pwd+\"/blaspp\"\n",
    "lapackpp_DIR = pwd+\"/lapackpp\"\n",
    "starpu_DIR = \"/home/weslleyp/storage/starpu/build/lib\"\n",
    "\n",
    "# Set environment variables for StarPU\n",
    "os.environ[\"PKG_CONFIG_PATH\"] = starpu_DIR+\"/pkgconfig\"\n",
    "os.environ[\"STARPU_SCHED\"] = \"dmdas\"\n",
    "os.environ[\"HWLOC_COMPONENTS\"] = \"-gl\"\n",
    "\n",
    "# Load Python modules\n",
    "import numpy as np\n",
    "import matplotlib.pyplot as plt\n",
    "import matplotlib\n",
    "from IPython.display import display, Math\n",
    "import time"
   ]
  },
  {
   "cell_type": "code",
   "execution_count": 2,
   "metadata": {},
   "outputs": [
    {
     "name": "stdout",
     "output_type": "stream",
     "text": [
      "Linux weslleyp-XPS-15-9510 5.15.0-73-generic #80~20.04.1-Ubuntu SMP Wed May 17 14:58:14 UTC 2023 x86_64 x86_64 x86_64 GNU/Linux\n"
     ]
    }
   ],
   "source": [
    "# System:\n",
    "!uname -a"
   ]
  },
  {
   "cell_type": "code",
   "execution_count": 3,
   "metadata": {},
   "outputs": [
    {
     "name": "stdout",
     "output_type": "stream",
     "text": [
      "Architecture:                    x86_64\n",
      "CPU op-mode(s):                  32-bit, 64-bit\n",
      "Byte Order:                      Little Endian\n",
      "Address sizes:                   39 bits physical, 48 bits virtual\n",
      "CPU(s):                          16\n",
      "On-line CPU(s) list:             0-15\n",
      "Thread(s) per core:              2\n",
      "Core(s) per socket:              8\n",
      "Socket(s):                       1\n",
      "NUMA node(s):                    1\n",
      "Vendor ID:                       GenuineIntel\n",
      "CPU family:                      6\n",
      "Model:                           141\n",
      "Model name:                      11th Gen Intel(R) Core(TM) i7-11800H @ 2.30GHz\n",
      "Stepping:                        1\n",
      "CPU MHz:                         2300.000\n",
      "CPU max MHz:                     4600.0000\n",
      "CPU min MHz:                     800.0000\n",
      "BogoMIPS:                        4608.00\n",
      "Virtualization:                  VT-x\n",
      "L1d cache:                       384 KiB\n",
      "L1i cache:                       256 KiB\n",
      "L2 cache:                        10 MiB\n",
      "L3 cache:                        24 MiB\n",
      "NUMA node0 CPU(s):               0-15\n",
      "Vulnerability Itlb multihit:     Not affected\n",
      "Vulnerability L1tf:              Not affected\n",
      "Vulnerability Mds:               Not affected\n",
      "Vulnerability Meltdown:          Not affected\n",
      "Vulnerability Mmio stale data:   Not affected\n",
      "Vulnerability Retbleed:          Not affected\n",
      "Vulnerability Spec store bypass: Mitigation; Speculative Store Bypass disabled v\n",
      "                                 ia prctl and seccomp\n",
      "Vulnerability Spectre v1:        Mitigation; usercopy/swapgs barriers and __user\n",
      "                                  pointer sanitization\n",
      "Vulnerability Spectre v2:        Mitigation; Enhanced IBRS, IBPB conditional, RS\n",
      "                                 B filling, PBRSB-eIBRS SW sequence\n",
      "Vulnerability Srbds:             Not affected\n",
      "Vulnerability Tsx async abort:   Not affected\n",
      "Flags:                           fpu vme de pse tsc msr pae mce cx8 apic sep mtr\n",
      "                                 r pge mca cmov pat pse36 clflush dts acpi mmx f\n",
      "                                 xsr sse sse2 ss ht tm pbe syscall nx pdpe1gb rd\n",
      "                                 tscp lm constant_tsc art arch_perfmon pebs bts \n",
      "                                 rep_good nopl xtopology nonstop_tsc cpuid aperf\n",
      "                                 mperf tsc_known_freq pni pclmulqdq dtes64 monit\n",
      "                                 or ds_cpl vmx est tm2 ssse3 sdbg fma cx16 xtpr \n",
      "                                 pdcm pcid sse4_1 sse4_2 x2apic movbe popcnt tsc\n",
      "                                 _deadline_timer aes xsave avx f16c rdrand lahf_\n",
      "                                 lm abm 3dnowprefetch cpuid_fault epb cat_l2 inv\n",
      "                                 pcid_single cdp_l2 ssbd ibrs ibpb stibp ibrs_en\n",
      "                                 hanced tpr_shadow vnmi flexpriority ept vpid ep\n",
      "                                 t_ad fsgsbase tsc_adjust bmi1 avx2 smep bmi2 er\n",
      "                                 ms invpcid rdt_a avx512f avx512dq rdseed adx sm\n",
      "                                 ap avx512ifma clflushopt clwb intel_pt avx512cd\n",
      "                                  sha_ni avx512bw avx512vl xsaveopt xsavec xgetb\n",
      "                                 v1 xsaves split_lock_detect dtherm ida arat pln\n",
      "                                  pts hwp hwp_notify hwp_act_window hwp_epp hwp_\n",
      "                                 pkg_req avx512vbmi umip pku ospke avx512_vbmi2 \n",
      "                                 gfni vaes vpclmulqdq avx512_vnni avx512_bitalg \n",
      "                                 avx512_vpopcntdq rdpid movdiri movdir64b fsrm a\n",
      "                                 vx512_vp2intersect md_clear flush_l1d arch_capa\n",
      "                                 bilities\n"
     ]
    }
   ],
   "source": [
    "# Machine:\n",
    "!lscpu"
   ]
  },
  {
   "cell_type": "code",
   "execution_count": 4,
   "metadata": {},
   "outputs": [
    {
     "name": "stdout",
     "output_type": "stream",
     "text": [
      "Mon Jun  5 10:14:49 2023       \n",
      "+-----------------------------------------------------------------------------+\n",
      "| NVIDIA-SMI 525.105.17   Driver Version: 525.105.17   CUDA Version: 12.0     |\n",
      "|-------------------------------+----------------------+----------------------+\n",
      "| GPU  Name        Persistence-M| Bus-Id        Disp.A | Volatile Uncorr. ECC |\n",
      "| Fan  Temp  Perf  Pwr:Usage/Cap|         Memory-Usage | GPU-Util  Compute M. |\n",
      "|                               |                      |               MIG M. |\n",
      "|===============================+======================+======================|\n",
      "|   0  NVIDIA GeForce ...  On   | 00000000:01:00.0 Off |                  N/A |\n",
      "| N/A   56C    P0    15W /  45W |      9MiB /  4096MiB |      0%      Default |\n",
      "|                               |                      |                  N/A |\n",
      "+-------------------------------+----------------------+----------------------+\n",
      "                                                                               \n",
      "+-----------------------------------------------------------------------------+\n",
      "| Processes:                                                                  |\n",
      "|  GPU   GI   CI        PID   Type   Process name                  GPU Memory |\n",
      "|        ID   ID                                                   Usage      |\n",
      "|=============================================================================|\n",
      "|    0   N/A  N/A      1889      G   /usr/lib/xorg/Xorg                  4MiB |\n",
      "|    0   N/A  N/A      3271      G   /usr/lib/xorg/Xorg                  4MiB |\n",
      "+-----------------------------------------------------------------------------+\n"
     ]
    }
   ],
   "source": [
    "# Nvidia version:\n",
    "!nvidia-smi"
   ]
  },
  {
   "cell_type": "code",
   "execution_count": 5,
   "metadata": {},
   "outputs": [
    {
     "name": "stdout",
     "output_type": "stream",
     "text": [
      "/opt/intel/oneapi/mkl/2023.1.0/bin/intel64/mkl_link_tool\n"
     ]
    }
   ],
   "source": [
    "# MKL version:\n",
    "!which mkl_link_tool"
   ]
  },
  {
   "cell_type": "code",
   "execution_count": 19,
   "metadata": {},
   "outputs": [
    {
     "name": "stdout",
     "output_type": "stream",
     "text": [
      "-- <T>LAPACK version 0.1.1\n",
      "-- Submodule update\n",
      "-- ClangFormat found: /usr/bin/clang-format-10 (version 10.0.0)\n",
      "-- Configuring done\n",
      "-- Generating done\n",
      "-- Build files have been written to: /home/weslleyp/storage/tlapack/examples/starpu/tlapack\n",
      "[0/1] Install the project...\u001b[K\n",
      "-- Install configuration: \"Release\"\n",
      "-- A library with LAPACK API found.\n",
      "-- A cache variable, namely LAPACKE_DIR, has been set to specify the install directory of LAPACKE\n",
      "-- Looking for LAPACKE_dgeqrf\n",
      "-- Looking for LAPACKE_dgeqrf - found\n",
      "-- Looking for lapacke: test with lapack succeeds\n",
      "-- Configuring done\n",
      "-- Generating done\n",
      "-- Build files have been written to: /home/weslleyp/storage/tlapack/examples/starpu/build\n",
      "[2/2] Linking CXX executable example_starpu_potrf\u001b[Ktrf.dir/example_potrf.cpp.o\u001b[K\n"
     ]
    }
   ],
   "source": [
    "#Build\n",
    "\n",
    "# Install <T>LAPACK\n",
    "!cmake -B \"$tlapack_DIR\" -G Ninja -D CMAKE_BUILD_TYPE=Release -D BUILD_EXAMPLES=OFF -D BUILD_TESTING=OFF -D TLAPACK_NDEBUG=ON -D CMAKE_INSTALL_PREFIX=\"$tlapack_DIR\" -D CMAKE_INSTALL_MESSAGE=\"LAZY\" \"$tlapack_source\"\n",
    "!cmake --build \"$tlapack_DIR\" --target install\n",
    "\n",
    "# Build\n",
    "!cmake -B build -G Ninja -D CMAKE_BUILD_TYPE=Release -D CMAKE_PREFIX_PATH=\".\"\n",
    "!cmake --build build"
   ]
  },
  {
   "cell_type": "code",
   "execution_count": 9,
   "metadata": {},
   "outputs": [
    {
     "name": "stdout",
     "output_type": "stream",
     "text": [
      "n = 1000\n",
      "nb = 20\n",
      "nt = 20\n",
      "\n",
      "\n",
      "-----------------------------------------------\n",
      "float:\n",
      "-----------------------------------------------\n",
      "A = starpu::Matrix<f>( nrows = 1000, ncols = 1000 )\n",
      "^C\n"
     ]
    }
   ],
   "source": [
    "!./build/example_starpu_potrf 1000 20 all yes"
   ]
  },
  {
   "cell_type": "code",
   "execution_count": null,
   "metadata": {},
   "outputs": [],
   "source": [
    "!./build/example_starpu_lapack 1000"
   ]
  },
  {
   "cell_type": "code",
   "execution_count": 18,
   "metadata": {},
   "outputs": [
    {
     "name": "stdout",
     "output_type": "stream",
     "text": [
      "-- Using CMAKE_INSTALL_PREFIX = /home/weslleyp/storage/tlapack/examples/starpu/blaspp\n",
      "-- Not building CUDA support in BLAS++\n",
      "-- Looking for HIP/ROCm\n",
      "-- Not building HIP/ROCm support in BLAS++\n",
      "-- blaspp_id = c498e8d\n",
      "-- Configuring done\n",
      "-- Generating done\n",
      "-- Build files have been written to: /home/weslleyp/storage/tlapack/examples/starpu/blaspp\n",
      "[0/1] Install the project...\u001b[K\n",
      "-- Install configuration: \"Release\"\n",
      "-- Installing: /home/weslleyp/storage/tlapack/examples/starpu/blaspp/lib/blaspp/blasppTargets-release.cmake\n",
      "-- Using CMAKE_INSTALL_PREFIX = /home/weslleyp/storage/tlapack/examples/starpu/lapackpp\n",
      "-- Not building CUDA support in LAPACK++\n",
      "-- Looking for HIP/ROCm\n",
      "-- Not building HIP/ROCm support in LAPACK++\n",
      "-- lapackpp_id = 17edf95\n",
      "-- Check for BLAS++\n",
      "   Found BLAS++: /home/weslleyp/storage/tlapack/examples/starpu/blaspp\n",
      "-- Configuring done\n",
      "-- Generating done\n",
      "-- Build files have been written to: /home/weslleyp/storage/tlapack/examples/starpu/lapackpp\n",
      "[0/1] Install the project...\u001b[K\n",
      "-- Install configuration: \"Release\"\n",
      "-- Installing: /home/weslleyp/storage/tlapack/examples/starpu/lapackpp/lib/lapackpp/lapackppTargets-release.cmake\n",
      "-- <T>LAPACK version 0.1.1\n",
      "-- Submodule update\n",
      "-- ClangFormat found: /usr/bin/clang-format-10 (version 10.0.0)\n",
      "-- Configuring done\n",
      "-- Generating done\n",
      "-- Build files have been written to: /home/weslleyp/storage/tlapack/examples/starpu/tlapack_LAPACK\n",
      "[0/1] Install the project...\u001b[K\n",
      "-- Install configuration: \"Release\"\n",
      "-- A library with LAPACK API found.\n",
      "-- A cache variable, namely LAPACKE_DIR, has been set to specify the install directory of LAPACKE\n",
      "-- Looking for LAPACKE_dgeqrf\n",
      "-- Looking for LAPACKE_dgeqrf - found\n",
      "-- Looking for lapacke: test with lapack succeeds\n",
      "-- Configuring done\n",
      "-- Generating done\n",
      "-- Build files have been written to: /home/weslleyp/storage/tlapack/examples/starpu/build_LAPACK\n",
      "[2/2] Linking CXX executable example_starpu_potrf\u001b[Ktrf.dir/example_potrf.cpp.o\u001b[K\n"
     ]
    }
   ],
   "source": [
    "#Build with MKL\n",
    "\n",
    "# Install BLAS++\n",
    "!cmake -B \"$blaspp_DIR\" -G Ninja -D CMAKE_BUILD_TYPE=Release -D build_tests=OFF -D CMAKE_INSTALL_PREFIX=\"$blaspp_DIR\" -D CMAKE_INSTALL_MESSAGE=\"LAZY\" \"$blaspp_source\"\n",
    "!cmake --build \"$blaspp_DIR\" --target install\n",
    "\n",
    "# Install LAPACK++\n",
    "!cmake -B \"$lapackpp_DIR\" -G Ninja -D CMAKE_BUILD_TYPE=Release -D build_tests=OFF -D CMAKE_INSTALL_PREFIX=\"$lapackpp_DIR\" -D CMAKE_INSTALL_MESSAGE=\"LAZY\" -D blaspp_DIR=\"$blaspp_DIR\" \"$lapackpp_source\"\n",
    "!cmake --build \"$lapackpp_DIR\" --target install\n",
    "\n",
    "# Install <T>LAPACK\n",
    "!cmake -B \"$tlapackLAPACK_DIR\" -G Ninja -D CMAKE_BUILD_TYPE=Release -D BUILD_EXAMPLES=OFF -D BUILD_TESTING=OFF -D TLAPACK_NDEBUG=ON -D CMAKE_INSTALL_PREFIX=\"$tlapackLAPACK_DIR\" -D CMAKE_INSTALL_MESSAGE=\"LAZY\" -D USE_LAPACKPP_WRAPPERS=ON -D blaspp_DIR=\"$blaspp_DIR\" -D lapackpp_DIR=\"$lapackpp_DIR\" \"$tlapack_source\"\n",
    "!cmake --build \"$tlapackLAPACK_DIR\" --target install\n",
    "\n",
    "# Build\n",
    "!cmake -B build_LAPACK -G Ninja -D CMAKE_BUILD_TYPE=Release -D tlapack_DIR=\"$tlapackLAPACK_DIR\" -D blaspp_DIR=\"$blaspp_DIR\" -D lapackpp_DIR=\"$lapackpp_DIR\"\n",
    "!cmake --build build_LAPACK"
   ]
  },
  {
   "cell_type": "code",
   "execution_count": null,
   "metadata": {},
   "outputs": [],
   "source": [
    "!./build_LAPACK/example_starpu_potrf 1000 50 all yes"
   ]
  },
  {
   "attachments": {},
   "cell_type": "markdown",
   "metadata": {},
   "source": [
    "# First test: Find optimal block size for a given matrix size"
   ]
  },
  {
   "cell_type": "code",
   "execution_count": 11,
   "metadata": {},
   "outputs": [],
   "source": [
    "# Set environment variables for StarPU\n",
    "if 'STARPU_NCUDA' in os.environ:\n",
    "    print(\"STARPU_NCUDA: \", os.environ['STARPU_NCUDA'])\n",
    "    del os.environ['STARPU_NCUDA']\n",
    "if 'STARPU_NCPU' in os.environ:\n",
    "    print(\"STARPU_NCPU: \", os.environ['STARPU_NCPU'])\n",
    "    del os.environ['STARPU_NCPU']"
   ]
  },
  {
   "cell_type": "code",
   "execution_count": 20,
   "metadata": {},
   "outputs": [
    {
     "name": "stdout",
     "output_type": "stream",
     "text": [
      "Size of the matrix = 7680\n",
      "Partitions: [8, 10, 12, 15, 16, 20]\n",
      "Precisions: ['single', 'double']\n",
      "Number of runs = 5\n"
     ]
    }
   ],
   "source": [
    "n = 7680\n",
    "\n",
    "# vector with integer factors of n\n",
    "parts = [i for i in range(8,21) if n%i==0]\n",
    "N = len(parts)\n",
    "\n",
    "precision = [\"single\",\"double\"]\n",
    "NT = len(precision)\n",
    "\n",
    "nRuns = 5\n",
    "\n",
    "executable = [\n",
    "    \"build_LAPACK/example_starpu_potrf\"\n",
    "]\n",
    "methods = [\n",
    "    r\"C++ templates + cuBLAS + cuSOLVER + MKL\"\n",
    "]\n",
    "M = len(executable)\n",
    "\n",
    "# Partition sizes\n",
    "nb = np.divide(n,parts)\n",
    "\n",
    "# FLOPs\n",
    "FLOPs_mul = n * (((n*1.)/6+.5)*n+1./3)\n",
    "FLOPs_add = n * (((n*1.)/6)*n-1./6)\n",
    "FLOPs = FLOPs_mul + FLOPs_add\n",
    "\n",
    "print(\"Size of the matrix = \"+str(n))\n",
    "print(\"Partitions: \"+str(parts))\n",
    "print(\"Precisions: \"+str(precision))\n",
    "print(\"Number of runs = \"+str(nRuns))"
   ]
  },
  {
   "cell_type": "code",
   "execution_count": 21,
   "metadata": {},
   "outputs": [
    {
     "name": "stdout",
     "output_type": "stream",
     "text": [
      "n = 7680\n",
      "nb = 960\n",
      "nt = 960\n",
      "\n",
      "\n",
      "-----------------------------------------------\n",
      "float:\n",
      "-----------------------------------------------\n",
      "A = starpu::Matrix<f>( nrows = 7680, ncols = 7680 )\n",
      "^C\n"
     ]
    }
   ],
   "source": [
    "expr = executable[0]\n",
    "!$expr {n} {nb[0]} {precision[0]}"
   ]
  },
  {
   "cell_type": "code",
   "execution_count": null,
   "metadata": {},
   "outputs": [],
   "source": [
    "# %%script false --no-raise-error\n",
    "# # Comment the line above to run this cell\n",
    "\n",
    "data = np.ones([M,N,NT], dtype=np.float64) * 60 * 60 * 24\n",
    "\n",
    "for s in range(M):\n",
    "    expr = executable[s]\n",
    "    for i in range(N):\n",
    "        nbi = nb[i]\n",
    "        for k in range(NT):\n",
    "            for j in range(nRuns):\n",
    "                time.sleep(5)\n",
    "                output = !$expr {n} {nbi} {precision[k]} | grep time\n",
    "                print(output)\n",
    "                try:\n",
    "                    aux = float(output[-1].split()[2])\n",
    "                    data[s,i,k] = np.minimum( aux, data[s,i,k] )\n",
    "                except:\n",
    "                    print(\"Not a float: \", output)"
   ]
  },
  {
   "cell_type": "code",
   "execution_count": null,
   "metadata": {},
   "outputs": [],
   "source": [
    "markers = ['x-','*-','+-']\n",
    "plt.rcParams['font.size'] = 12\n",
    "\n",
    "for p in range(NT):\n",
    "    print(precision[p])\n",
    "\n",
    "    fig1, ax1 = plt.subplots()\n",
    "\n",
    "    for m in range(M):\n",
    "        gflops = np.divide(FLOPs/1e9,data[m,:,p])\n",
    "        plt.plot(nb,gflops,markers[m%3],label=methods[m])\n",
    "\n",
    "    # ax1.set_xscale(\"log\")\n",
    "    # ax1.set_yscale(\"log\")\n",
    "    # ax1.set_xticks(parts)\n",
    "    ax1.get_xaxis().set_major_formatter(matplotlib.ticker.ScalarFormatter())\n",
    "\n",
    "    plt.xlabel(\"$n_b$\")\n",
    "    plt.ylabel(\"GFLOPS\")\n",
    "    plt.legend()\n",
    "\n",
    "    plt.tight_layout()\n",
    "    plt.savefig(\"curves_\"+precision[p]+\".pdf\")\n",
    "    plt.show()"
   ]
  },
  {
   "attachments": {},
   "cell_type": "markdown",
   "metadata": {},
   "source": [
    "# Take the best block size and compare with MKL and StarPU"
   ]
  },
  {
   "cell_type": "code",
   "execution_count": null,
   "metadata": {},
   "outputs": [],
   "source": [
    "nx_best = np.zeros([NT], dtype=int)\n",
    "for k in range(NT):\n",
    "    # nx_best[k] = parts[np.argmin(data[0,:,k])]\n",
    "    nx_best[k] = n/512\n",
    "\n",
    "print(nx_best)\n",
    "\n",
    "nRuns = 5 # for the best partition size"
   ]
  },
  {
   "cell_type": "code",
   "execution_count": null,
   "metadata": {},
   "outputs": [],
   "source": [
    "# %%script false --no-raise-error\n",
    "# # Comment the line above to run this cell\n",
    "\n",
    "dataMKL = np.ones([NT], dtype=np.float64) * 60 * 60 * 24\n",
    "\n",
    "expr = \"build/example_starpu_lapack\"\n",
    "for k in range(NT):\n",
    "    for j in range(nRuns):\n",
    "        time.sleep(5)\n",
    "        output = !$expr {n} {precision[k]} | grep time\n",
    "        print(output)\n",
    "        try:\n",
    "            aux = float(output[-1].split()[2])\n",
    "            dataMKL[k] = np.minimum( aux, dataMKL[k] )\n",
    "        except:\n",
    "            print(\"Not a float: \", output)\n",
    "\n",
    "for p in range(NT):\n",
    "    print(precision[p])\n",
    "\n",
    "    gflops = np.divide(FLOPs/1e9,dataMKL[p])\n",
    "    print(\"time[s] = \", dataMKL[p])\n",
    "    print(\"GFLOPS = \", gflops)"
   ]
  },
  {
   "cell_type": "code",
   "execution_count": null,
   "metadata": {},
   "outputs": [],
   "source": [
    "# %%script false --no-raise-error\n",
    "# # Comment the line above to run this cell\n",
    "\n",
    "dataTLAPACKStarPUmkl = np.ones([NT], dtype=np.float64) * 60 * 60 * 24\n",
    "\n",
    "expr = \"build_LAPACK/example_starpu_potrf\"\n",
    "for k in range(NT):\n",
    "    for j in range(nRuns):\n",
    "        time.sleep(5)\n",
    "        output = !$expr {n} {nx_best[k]} {precision[k]} | grep time\n",
    "        print(output)\n",
    "        try:\n",
    "            aux = float(output[-1].split()[2])\n",
    "            dataTLAPACKStarPUmkl[k] = np.minimum( aux, dataTLAPACKStarPUmkl[k] )\n",
    "        except:\n",
    "            print(\"Not a float: \", output)\n",
    "\n",
    "for p in range(NT):\n",
    "    print(precision[p])\n",
    "\n",
    "    gflops = np.divide(FLOPs/1e9,dataTLAPACKStarPUmkl[p])\n",
    "    print(\"time[s] = \", dataTLAPACKStarPUmkl[p])\n",
    "    print(\"GFLOPS = \", gflops)"
   ]
  },
  {
   "cell_type": "code",
   "execution_count": null,
   "metadata": {},
   "outputs": [],
   "source": [
    "# %%script false --no-raise-error\n",
    "# # Comment the line above to run this cell\n",
    "\n",
    "expr = starpu_DIR + \"/starpu/examples/cholesky_implicit\"\n",
    "for j in range(nRuns):\n",
    "    time.sleep(5)\n",
    "    output = !$expr -size {n} -nblocks {nx_best[0]} -no-prio\n",
    "    print(output[-1])"
   ]
  },
  {
   "attachments": {},
   "cell_type": "markdown",
   "metadata": {},
   "source": [
    "# First test: Find optimal block size without GPU"
   ]
  },
  {
   "cell_type": "code",
   "execution_count": null,
   "metadata": {},
   "outputs": [],
   "source": [
    "# Set environment variables for StarPU\n",
    "os.environ[\"STARPU_NCUDA\"] = \"0\"\n",
    "if 'STARPU_NCPU' in os.environ:\n",
    "    del os.environ['STARPU_NCPU']"
   ]
  },
  {
   "cell_type": "code",
   "execution_count": null,
   "metadata": {},
   "outputs": [],
   "source": [
    "n = 7680\n",
    "\n",
    "# vector with integer factors of n\n",
    "parts = [i for i in range(6,60) if n%i==0]\n",
    "N = len(parts)\n",
    "\n",
    "precision = [\"single\"]\n",
    "NT = len(precision)\n",
    "\n",
    "nRuns = 5\n",
    "\n",
    "executable = [\n",
    "    \"build_LAPACK/example_starpu_potrf\"\n",
    "]\n",
    "methods = [\n",
    "    r\"C++ templates + MKL\"\n",
    "]\n",
    "M = len(executable)\n",
    "\n",
    "# Partition sizes\n",
    "nb = np.divide(n,parts)\n",
    "\n",
    "# FLOPs\n",
    "FLOPs_mul = n * (((n*1.)/6+.5)*n+1./3)\n",
    "FLOPs_add = n * (((n*1.)/6)*n-1./6)\n",
    "FLOPs = FLOPs_mul + FLOPs_add\n",
    "\n",
    "print(\"Size of the matrix = \"+str(n))\n",
    "print(\"Partitions: \"+str(parts))\n",
    "print(\"Precisions: \"+str(precision))\n",
    "print(\"Number of runs = \"+str(nRuns))"
   ]
  },
  {
   "cell_type": "code",
   "execution_count": null,
   "metadata": {},
   "outputs": [],
   "source": [
    "expr = executable[0]\n",
    "!$expr {n} {parts[0]} {precision[0]} y"
   ]
  },
  {
   "cell_type": "code",
   "execution_count": null,
   "metadata": {},
   "outputs": [],
   "source": [
    "# %%script false --no-raise-error\n",
    "# # Comment the line above to run this cell\n",
    "\n",
    "data = np.ones([M,N,NT], dtype=np.float64) * 60 * 60 * 24\n",
    "\n",
    "for s in range(M):\n",
    "    expr = executable[s]\n",
    "    for i in range(N):\n",
    "        nx = parts[i]\n",
    "        for k in range(NT):\n",
    "            for j in range(nRuns):\n",
    "                time.sleep(5)\n",
    "                output = !$expr {n} {nx} {precision[k]} | grep time\n",
    "                print(output)\n",
    "                try:\n",
    "                    aux = float(output[-1].split()[2])\n",
    "                    data[s,i,k] = np.minimum( aux, data[s,i,k] )\n",
    "                except:\n",
    "                    print(\"Not a float: \", output)"
   ]
  },
  {
   "cell_type": "code",
   "execution_count": null,
   "metadata": {},
   "outputs": [],
   "source": [
    "markers = ['x-','*-','+-']\n",
    "plt.rcParams['font.size'] = 12\n",
    "\n",
    "for p in range(NT):\n",
    "    print(precision[p])\n",
    "\n",
    "    fig1, ax1 = plt.subplots()\n",
    "\n",
    "    for m in range(M):\n",
    "        gflops = np.divide(FLOPs/1e9,data[m,:,p])\n",
    "        plt.plot(nb,gflops,markers[m%3],label=methods[m])\n",
    "\n",
    "    # ax1.set_xscale(\"log\")\n",
    "    # ax1.set_yscale(\"log\")\n",
    "    # ax1.set_xticks(parts)\n",
    "    ax1.get_xaxis().set_major_formatter(matplotlib.ticker.ScalarFormatter())\n",
    "\n",
    "    plt.xlabel(\"$n_b$\")\n",
    "    plt.ylabel(\"GFLOPS\")\n",
    "    plt.legend()\n",
    "\n",
    "    plt.tight_layout()\n",
    "    plt.savefig(\"curves_\"+precision[p]+\".pdf\")\n",
    "    plt.show()"
   ]
  },
  {
   "cell_type": "code",
   "execution_count": null,
   "metadata": {},
   "outputs": [],
   "source": [
    "nx_best = np.zeros([NT], dtype=np.float64)\n",
    "for k in range(NT):\n",
    "    # nx_best[k] = parts[np.argmin(data[0,:,k])]\n",
    "    nx_best[k] = 15\n",
    "print(\"Best nb:\", np.divide(n,nx_best))\n",
    "\n",
    "nRuns = 5 # for the best partition size"
   ]
  },
  {
   "cell_type": "code",
   "execution_count": null,
   "metadata": {},
   "outputs": [],
   "source": [
    "# %%script false --no-raise-error\n",
    "# # Comment the line above to run this cell\n",
    "\n",
    "dataTLAPACKStarPUmkl = np.ones([NT], dtype=np.float64) * 60 * 60 * 24\n",
    "\n",
    "expr = \"build_LAPACK/example_starpu_potrf\"\n",
    "for k in range(NT):\n",
    "    for j in range(nRuns):\n",
    "        time.sleep(5)\n",
    "        output = !$expr {n} {nx_best[k]} {precision[k]} | grep time\n",
    "        print(output)\n",
    "        try:\n",
    "            aux = float(output[-1].split()[2])\n",
    "            dataTLAPACKStarPUmkl[k] = np.minimum( aux, dataTLAPACKStarPUmkl[k] )\n",
    "        except:\n",
    "            print(\"Not a float: \", output)\n",
    "\n",
    "for p in range(NT):\n",
    "    print(precision[p])\n",
    "\n",
    "    gflops = np.divide(FLOPs/1e9,dataTLAPACKStarPUmkl[p])\n",
    "    print(\"time[s] = \", dataTLAPACKStarPUmkl[p])\n",
    "    print(\"GFLOPS = \", gflops)"
   ]
  },
  {
   "cell_type": "code",
   "execution_count": 29,
   "metadata": {},
   "outputs": [
    {
     "name": "stdout",
     "output_type": "stream",
     "text": [
      "7680\t86\t1755.0\n",
      "7680\t88\t1723.3\n",
      "7680\t88\t1717.5\n",
      "7680\t88\t1708.3\n",
      "7680\t88\t1719.0\n"
     ]
    }
   ],
   "source": [
    "# %%script false --no-raise-error\n",
    "# # Comment the line above to run this cell\n",
    "\n",
    "expr = starpu_DIR + \"/starpu/examples/cholesky_implicit\"\n",
    "for j in range(nRuns):\n",
    "    time.sleep(5)\n",
    "    output = !$expr -size {n} -nblocks 15 -no-prio\n",
    "    print(output[-1])"
   ]
  },
  {
   "cell_type": "code",
   "execution_count": null,
   "metadata": {},
   "outputs": [],
   "source": [
    "expr = \"build_LAPACK/example_starpu_potrf\"\n",
    "!$expr {n} {n/48} single"
   ]
  },
  {
   "cell_type": "code",
   "execution_count": 27,
   "metadata": {},
   "outputs": [
    {
     "name": "stdout",
     "output_type": "stream",
     "text": [
      "# size\tms\tGFlop/s\n",
      "7680\t99\t1527.5\n"
     ]
    }
   ],
   "source": [
    "!$expr -size {n} -nblocks {}"
   ]
  }
 ],
 "metadata": {
  "kernelspec": {
   "display_name": "Python 3 (ipykernel)",
   "language": "python",
   "name": "python3"
  },
  "language_info": {
   "codemirror_mode": {
    "name": "ipython",
    "version": 3
   },
   "file_extension": ".py",
   "mimetype": "text/x-python",
   "name": "python",
   "nbconvert_exporter": "python",
   "pygments_lexer": "ipython3",
   "version": "3.8.10"
  }
 },
 "nbformat": 4,
 "nbformat_minor": 2
}
