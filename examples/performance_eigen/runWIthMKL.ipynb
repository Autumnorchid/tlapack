{
 "cells": [
  {
   "cell_type": "markdown",
   "metadata": {},
   "source": []
  },
  {
   "cell_type": "code",
   "execution_count": 241,
   "metadata": {},
   "outputs": [],
   "source": [
    "import os\n",
    "pwd = os.getcwd()\n",
    "\n",
    "blaspp_source = \"/home/weslleyp/storage/blaspp\"\n",
    "lapackpp_source = \"/home/weslleyp/storage/lapackpp\"\n",
    "tlapack_source = \"/home/weslleyp/storage/tlapack\"\n",
    "\n",
    "tlapack_DIR = pwd+\"/tlapack\"\n",
    "tlapackMKL_DIR = pwd+\"/tlapack_mkl\"\n",
    "blaspp_DIR = pwd+\"/blaspp\"\n",
    "lapackpp_DIR = pwd+\"/lapackpp\""
   ]
  },
  {
   "cell_type": "code",
   "execution_count": 242,
   "metadata": {},
   "outputs": [
    {
     "name": "stdout",
     "output_type": "stream",
     "text": [
      "Linux weslleyp-XPS-15-9510 5.14.0-1054-oem #61-Ubuntu SMP Fri Oct 14 13:05:50 UTC 2022 x86_64 x86_64 x86_64 GNU/Linux\n"
     ]
    }
   ],
   "source": [
    "# System:\n",
    "!uname -a"
   ]
  },
  {
   "cell_type": "code",
   "execution_count": 243,
   "metadata": {},
   "outputs": [
    {
     "name": "stdout",
     "output_type": "stream",
     "text": [
      "Architecture:                    x86_64\n",
      "CPU op-mode(s):                  32-bit, 64-bit\n",
      "Byte Order:                      Little Endian\n",
      "Address sizes:                   39 bits physical, 48 bits virtual\n",
      "CPU(s):                          16\n",
      "On-line CPU(s) list:             0-15\n",
      "Thread(s) per core:              2\n",
      "Core(s) per socket:              8\n",
      "Socket(s):                       1\n",
      "NUMA node(s):                    1\n",
      "Vendor ID:                       GenuineIntel\n",
      "CPU family:                      6\n",
      "Model:                           141\n",
      "Model name:                      11th Gen Intel(R) Core(TM) i7-11800H @ 2.30GHz\n",
      "Stepping:                        1\n",
      "CPU MHz:                         2300.000\n",
      "CPU max MHz:                     4600.0000\n",
      "CPU min MHz:                     800.0000\n",
      "BogoMIPS:                        4608.00\n",
      "Virtualization:                  VT-x\n",
      "L1d cache:                       384 KiB\n",
      "L1i cache:                       256 KiB\n",
      "L2 cache:                        10 MiB\n",
      "L3 cache:                        24 MiB\n",
      "NUMA node0 CPU(s):               0-15\n",
      "Vulnerability Itlb multihit:     Not affected\n",
      "Vulnerability L1tf:              Not affected\n",
      "Vulnerability Mds:               Not affected\n",
      "Vulnerability Meltdown:          Not affected\n",
      "Vulnerability Mmio stale data:   Not affected\n",
      "Vulnerability Spec store bypass: Mitigation; Speculative Store Bypass disabled v\n",
      "                                 ia prctl and seccomp\n",
      "Vulnerability Spectre v1:        Mitigation; usercopy/swapgs barriers and __user\n",
      "                                  pointer sanitization\n",
      "Vulnerability Spectre v2:        Mitigation; Enhanced IBRS, IBPB conditional, RS\n",
      "                                 B filling\n",
      "Vulnerability Srbds:             Not affected\n",
      "Vulnerability Tsx async abort:   Not affected\n",
      "Flags:                           fpu vme de pse tsc msr pae mce cx8 apic sep mtr\n",
      "                                 r pge mca cmov pat pse36 clflush dts acpi mmx f\n",
      "                                 xsr sse sse2 ss ht tm pbe syscall nx pdpe1gb rd\n",
      "                                 tscp lm constant_tsc art arch_perfmon pebs bts \n",
      "                                 rep_good nopl xtopology nonstop_tsc cpuid aperf\n",
      "                                 mperf tsc_known_freq pni pclmulqdq dtes64 monit\n",
      "                                 or ds_cpl vmx est tm2 ssse3 sdbg fma cx16 xtpr \n",
      "                                 pdcm pcid sse4_1 sse4_2 x2apic movbe popcnt tsc\n",
      "                                 _deadline_timer aes xsave avx f16c rdrand lahf_\n",
      "                                 lm abm 3dnowprefetch cpuid_fault epb cat_l2 inv\n",
      "                                 pcid_single cdp_l2 ssbd ibrs ibpb stibp ibrs_en\n",
      "                                 hanced tpr_shadow vnmi flexpriority ept vpid ep\n",
      "                                 t_ad fsgsbase tsc_adjust bmi1 avx2 smep bmi2 er\n",
      "                                 ms invpcid rdt_a avx512f avx512dq rdseed adx sm\n",
      "                                 ap avx512ifma clflushopt clwb intel_pt avx512cd\n",
      "                                  sha_ni avx512bw avx512vl xsaveopt xsavec xgetb\n",
      "                                 v1 xsaves split_lock_detect dtherm ida arat pln\n",
      "                                  pts hwp hwp_notify hwp_act_window hwp_epp hwp_\n",
      "                                 pkg_req avx512vbmi umip pku ospke avx512_vbmi2 \n",
      "                                 gfni vaes vpclmulqdq avx512_vnni avx512_bitalg \n",
      "                                 avx512_vpopcntdq rdpid movdiri movdir64b fsrm a\n",
      "                                 vx512_vp2intersect md_clear flush_l1d arch_capa\n",
      "                                 bilities\n"
     ]
    }
   ],
   "source": [
    "# Machine:\n",
    "!lscpu"
   ]
  },
  {
   "cell_type": "code",
   "execution_count": 244,
   "metadata": {},
   "outputs": [
    {
     "name": "stdout",
     "output_type": "stream",
     "text": [
      "set (EIGEN3_VERSION_STRING \"3.3.7\")\n"
     ]
    }
   ],
   "source": [
    "# Eigen version:\n",
    "!cat /usr/lib/cmake/eigen3/Eigen3Config.cmake | grep EIGEN3_VERSION_STRING"
   ]
  },
  {
   "cell_type": "code",
   "execution_count": 245,
   "metadata": {},
   "outputs": [
    {
     "name": "stdout",
     "output_type": "stream",
     "text": [
      "/opt/intel/oneapi/mkl/2022.2.1/bin/intel64/mkl_link_tool\n"
     ]
    }
   ],
   "source": [
    "# MKL version:\n",
    "!which mkl_link_tool"
   ]
  },
  {
   "cell_type": "code",
   "execution_count": 246,
   "metadata": {},
   "outputs": [
    {
     "name": "stdout",
     "output_type": "stream",
     "text": [
      "-- <T>LAPACK version 0.1.1\n",
      "-- Submodule update\n",
      "-- Configuring done\n",
      "-- Generating done\n",
      "-- Build files have been written to: /home/weslleyp/storage/tlapack/examples/performance_eigen/tlapack\n",
      "[0/1] Install the project...\u001b[K\n",
      "-- Install configuration: \"Release\"\n",
      "-- Configuring done\n",
      "-- Generating done\n",
      "-- Build files have been written to: /home/weslleyp/storage/tlapack/examples/performance_eigen/build\n",
      "ninja: no work to do.\n"
     ]
    }
   ],
   "source": [
    "#Build without MKL\n",
    "\n",
    "# Install <T>LAPACK\n",
    "!cmake -B \"$tlapack_DIR\" -G Ninja -D CMAKE_BUILD_TYPE=Release -D BUILD_EXAMPLES=OFF -D BUILD_TESTING=OFF -D CMAKE_INSTALL_PREFIX=\"$tlapack_DIR\" -D CMAKE_INSTALL_MESSAGE=\"LAZY\" \"$tlapack_source\"\n",
    "!cmake --build \"$tlapack_DIR\" --target install\n",
    "\n",
    "# Build\n",
    "!cmake -B build -G Ninja -D CMAKE_BUILD_TYPE=Release -D CMAKE_PREFIX_PATH=\".\"\n",
    "!cmake --build build"
   ]
  },
  {
   "cell_type": "code",
   "execution_count": 247,
   "metadata": {},
   "outputs": [
    {
     "name": "stdout",
     "output_type": "stream",
     "text": [
      "Reference:\n",
      "First eigenvalues:\n",
      "(499.882,0)\n",
      "(8.92161,0)\n",
      "-x-x-x-x-x-x-x-x-\n",
      "Using Eigen:\n",
      "First eigenvalues:\n",
      "(499.883,0)\n",
      "(8.92164,0)\n",
      "Error in the eigenvalues: 0.00998675\n",
      "time = 1.5691 s\n",
      "Reference:\n",
      "First eigenvalues:\n",
      "(499.882,0)\n",
      "(8.92161,0)\n",
      "-x-x-x-x-x-x-x-x-\n",
      "Using Eigen:\n",
      "First eigenvalues:\n",
      "(499.882,0)\n",
      "(8.92161,0)\n",
      "Error in the eigenvalues: 2.33553e-15\n",
      "time = 2.78988 s\n"
     ]
    }
   ],
   "source": [
    "!./build/performance_eigen 1000"
   ]
  },
  {
   "cell_type": "code",
   "execution_count": 248,
   "metadata": {},
   "outputs": [
    {
     "name": "stdout",
     "output_type": "stream",
     "text": [
      "Reference:\n",
      "First eigenvalues:\n",
      "(499.882,0)\n",
      "(8.92161,0)\n",
      "-x-x-x-x-x-x-x-x-\n",
      "Using <T>LAPACK:\n",
      "First eigenvalues:\n",
      "(499.883,0)\n",
      "(8.92161,0)\n",
      "Error in the eigenvalues: 0.00998681\n",
      "time = 0.976849 s\n",
      "||Z.adjoint() Z - I||/||I|| = 0\n",
      "||Z.adjoint() H Z - T||/||T|| = 828.706\n",
      "n_aed = 41\n",
      "n_sweep = 7\n",
      "n_shifts_total = 448\n",
      "Reference:\n",
      "First eigenvalues:\n",
      "(499.882,0)\n",
      "(8.92161,0)\n",
      "-x-x-x-x-x-x-x-x-\n",
      "Using <T>LAPACK:\n",
      "First eigenvalues:\n",
      "(499.882,0)\n",
      "(8.92161,0)\n",
      "Error in the eigenvalues: 2.46726e-15\n",
      "time = 1.57934 s\n",
      "||Z.adjoint() Z - I||/||I|| = 0\n",
      "||Z.adjoint() H Z - T||/||T|| = 826.093\n",
      "n_aed = 41\n",
      "n_sweep = 13\n",
      "n_shifts_total = 832\n"
     ]
    }
   ],
   "source": [
    "!./build/performance_tlapack 1000"
   ]
  },
  {
   "cell_type": "code",
   "execution_count": 249,
   "metadata": {},
   "outputs": [
    {
     "name": "stdout",
     "output_type": "stream",
     "text": [
      "-- Using CMAKE_INSTALL_PREFIX = /home/weslleyp/storage/tlapack/examples/performance_eigen/blaspp\n",
      "-- Not building CUDA support in BLAS++\n",
      "-- Looking for HIP/ROCm\n",
      "-- Not building HIP/ROCm support in BLAS++\n",
      "-- blaspp_id = c498e8d\n",
      "-- Configuring done\n",
      "-- Generating done\n",
      "-- Build files have been written to: /home/weslleyp/storage/tlapack/examples/performance_eigen/blaspp\n",
      "[0/1] Install the project...\u001b[K\n",
      "-- Install configuration: \"Release\"\n",
      "-- Using CMAKE_INSTALL_PREFIX = /home/weslleyp/storage/tlapack/examples/performance_eigen/lapackpp\n",
      "-- Not building CUDA support in LAPACK++\n",
      "-- Looking for HIP/ROCm\n",
      "-- Not building HIP/ROCm support in LAPACK++\n",
      "-- lapackpp_id = 17edf95\n",
      "-- Check for BLAS++\n",
      "\u001b[0m   Found BLAS++: /home/weslleyp/storage/tlapack/examples/performance_eigen/blaspp\u001b[0m\n",
      "-- Configuring done\n",
      "-- Generating done\n",
      "-- Build files have been written to: /home/weslleyp/storage/tlapack/examples/performance_eigen/lapackpp\n",
      "[0/1] Install the project...\u001b[K\n",
      "-- Install configuration: \"Release\"\n",
      "-- <T>LAPACK version 0.1.1\n",
      "-- Submodule update\n",
      "-- Configuring done\n",
      "-- Generating done\n",
      "-- Build files have been written to: /home/weslleyp/storage/tlapack/examples/performance_eigen/tlapack_mkl\n",
      "[0/1] Install the project...\u001b[K\n",
      "-- Install configuration: \"Release\"\n",
      "-- Configuring done\n",
      "-- Generating done\n",
      "-- Build files have been written to: /home/weslleyp/storage/tlapack/examples/performance_eigen/build_mkl\n",
      "ninja: no work to do.\n"
     ]
    }
   ],
   "source": [
    "#Build with MKL\n",
    "\n",
    "# Install BLAS++\n",
    "!cmake -B \"$blaspp_DIR\" -G Ninja -D CMAKE_BUILD_TYPE=Release -D build_tests=OFF -D CMAKE_INSTALL_PREFIX=\"$blaspp_DIR\" -D CMAKE_INSTALL_MESSAGE=\"LAZY\" \"$blaspp_source\"\n",
    "!cmake --build \"$blaspp_DIR\" --target install\n",
    "\n",
    "# Install LAPACK++\n",
    "!cmake -B \"$lapackpp_DIR\" -G Ninja -D CMAKE_BUILD_TYPE=Release -D build_tests=OFF -D CMAKE_INSTALL_PREFIX=\"$lapackpp_DIR\" -D CMAKE_INSTALL_MESSAGE=\"LAZY\" -D blaspp_DIR=\"$blaspp_DIR\" \"$lapackpp_source\"\n",
    "!cmake --build \"$lapackpp_DIR\" --target install\n",
    "\n",
    "# Install <T>LAPACK\n",
    "!cmake -B \"$tlapackMKL_DIR\" -G Ninja -D CMAKE_BUILD_TYPE=Release -D BUILD_EXAMPLES=OFF -D BUILD_TESTING=OFF -D CMAKE_INSTALL_PREFIX=\"$tlapackMKL_DIR\" -D CMAKE_INSTALL_MESSAGE=\"LAZY\" -D USE_LAPACKPP_WRAPPERS=ON -D blaspp_DIR=\"$blaspp_DIR\" -D lapackpp_DIR=\"$lapackpp_DIR\" \"$tlapack_source\"\n",
    "!cmake --build \"$tlapackMKL_DIR\" --target install\n",
    "\n",
    "# Build\n",
    "!cmake -B build_mkl -G Ninja -D CMAKE_BUILD_TYPE=Release -D tlapack_DIR=\"$tlapackMKL_DIR\" -D blaspp_DIR=\"$blaspp_DIR\" -D lapackpp_DIR=\"$lapackpp_DIR\" -D USE_MKL=ON\n",
    "!cmake --build build_mkl"
   ]
  },
  {
   "cell_type": "code",
   "execution_count": 250,
   "metadata": {},
   "outputs": [
    {
     "name": "stdout",
     "output_type": "stream",
     "text": [
      "-x-x-x-x-x-x-x-x-\n",
      "-x-x-x-MKL-x-x-x-\n",
      "Using Eigen:\n",
      "First eigenvalues:\n",
      "(499.882,0)\n",
      "(8.92162,0)\n",
      "Error in the eigenvalues: inf\n",
      "time = 0.400565 s\n",
      "-x-x-x-x-x-x-x-x-\n",
      "-x-x-x-MKL-x-x-x-\n",
      "Using Eigen:\n",
      "First eigenvalues:\n",
      "(499.882,0)\n",
      "(8.92161,0)\n",
      "Error in the eigenvalues: -nan\n",
      "time = 0.559561 s\n"
     ]
    }
   ],
   "source": [
    "!./build_mkl/performance_eigen 1000 0"
   ]
  },
  {
   "cell_type": "code",
   "execution_count": 251,
   "metadata": {},
   "outputs": [
    {
     "name": "stdout",
     "output_type": "stream",
     "text": [
      "-x-x-x-x-x-x-x-x-\n",
      "Using <T>LAPACK:\n",
      "First eigenvalues:\n",
      "(499.882,0)\n",
      "(8.92166,0)\n",
      "Error in the eigenvalues: -nan\n",
      "time = 0.238441 s\n",
      "||Z.adjoint() Z - I||/||I|| = 0\n",
      "||Z.adjoint() H Z - T||/||T|| = 830.628\n",
      "n_aed = 39\n",
      "n_sweep = 7\n",
      "n_shifts_total = 448\n",
      "-x-x-x-x-x-x-x-x-\n",
      "Using <T>LAPACK:\n",
      "First eigenvalues:\n",
      "(499.882,0)\n",
      "(8.92161,0)\n",
      "Error in the eigenvalues: -nan\n",
      "time = 0.354536 s\n",
      "||Z.adjoint() Z - I||/||I|| = 0\n",
      "||Z.adjoint() H Z - T||/||T|| = 827.81\n",
      "n_aed = 41\n",
      "n_sweep = 13\n",
      "n_shifts_total = 832\n"
     ]
    }
   ],
   "source": [
    "!./build_mkl/performance_tlapack 1000 0"
   ]
  },
  {
   "cell_type": "code",
   "execution_count": 252,
   "metadata": {},
   "outputs": [],
   "source": [
    "import numpy as np\n",
    "import matplotlib.pyplot as plt\n",
    "import matplotlib\n",
    "\n",
    "plt.rcParams['font.size'] = 14"
   ]
  },
  {
   "cell_type": "code",
   "execution_count": 253,
   "metadata": {},
   "outputs": [],
   "source": [
    "nSizes = [10, 25, 50, 100, 200, 400, 800, 1600]\n",
    "N = len(nSizes)\n",
    "\n",
    "datatypes = [\"float\",\"double\"]\n",
    "NT = len(datatypes)\n",
    "\n",
    "nRuns = 3"
   ]
  },
  {
   "cell_type": "code",
   "execution_count": 254,
   "metadata": {},
   "outputs": [],
   "source": [
    "data = np.ones([M,N,NT], dtype=np.float64) * 60 * 60 * 24\n",
    "\n",
    "executable = [\n",
    "    \"build/performance_tlapack\",\n",
    "    \"build/performance_tlapack\"\n",
    "]\n",
    "M = len(executable)\n",
    "\n",
    "methods = [\n",
    "    r\"$\\langle$T$\\rangle$LAPACK - C++\",\n",
    "    r\"Eigen3 - C++\"\n",
    "]\n",
    "\n",
    "for s in range(M):\n",
    "    for i in range(N):\n",
    "        n = nSizes[i]\n",
    "        for j in range(nRuns):\n",
    "            expr = executable[s]\n",
    "            output = !$expr {n} 0 | grep time\n",
    "            for k in range(NT):\n",
    "                data[s,i,k] = np.minimum( float(output[k].split()[2]), data[s,i,k] )"
   ]
  },
  {
   "cell_type": "code",
   "execution_count": 255,
   "metadata": {},
   "outputs": [
    {
     "data": {
      "text/plain": [
       "array([[[2.40880e-05, 1.75640e-05],\n",
       "        [6.18840e-05, 7.54260e-05],\n",
       "        [2.68579e-04, 3.89268e-04],\n",
       "        [1.85396e-03, 2.86372e-03],\n",
       "        [1.19290e-02, 1.75769e-02],\n",
       "        [7.13812e-02, 1.20622e-01],\n",
       "        [5.19686e-01, 8.70740e-01],\n",
       "        [3.29049e+00, 5.65648e+00]],\n",
       "\n",
       "       [[2.74140e-05, 1.55220e-05],\n",
       "        [5.95260e-05, 7.24140e-05],\n",
       "        [2.50870e-04, 3.64299e-04],\n",
       "        [1.82118e-03, 2.87912e-03],\n",
       "        [1.14041e-02, 1.80498e-02],\n",
       "        [7.19438e-02, 1.20806e-01],\n",
       "        [5.23304e-01, 8.71808e-01],\n",
       "        [3.24480e+00, 5.73542e+00]]])"
      ]
     },
     "execution_count": 255,
     "metadata": {},
     "output_type": "execute_result"
    }
   ],
   "source": [
    "data"
   ]
  },
  {
   "cell_type": "code",
   "execution_count": 259,
   "metadata": {},
   "outputs": [
    {
     "name": "stdout",
     "output_type": "stream",
     "text": [
      "float\n"
     ]
    },
    {
     "data": {
      "image/png": "[encoded data removed]",
      "text/plain": [
       "<Figure size 432x288 with 1 Axes>"
      ]
     },
     "metadata": {
      "needs_background": "light"
     },
     "output_type": "display_data"
    },
    {
     "data": {
      "text/plain": [
       "2.632408365759907"
      ]
     },
     "execution_count": 259,
     "metadata": {},
     "output_type": "execute_result"
    }
   ],
   "source": [
    "fig1, ax1 = plt.subplots()\n",
    "\n",
    "datatype = 0; print(datatypes[datatype])\n",
    "m = 0; plt.plot(nSizes,data[m,:,datatype],'x-',label=methods[m])\n",
    "m = 1; plt.plot(nSizes,data[m,:,datatype],'*-',label=methods[m])\n",
    "\n",
    "ax1.set_xscale(\"log\")\n",
    "ax1.set_yscale(\"log\")\n",
    "ax1.set_xticks(nSizes)\n",
    "ax1.get_xaxis().set_major_formatter(matplotlib.ticker.ScalarFormatter())\n",
    "\n",
    "plt.xlabel(\"n\")\n",
    "plt.ylabel(\"time (s)\")\n",
    "plt.legend()\n",
    "\n",
    "plt.tight_layout()\n",
    "plt.savefig(\"curvesWithNoMKL.pdf\")\n",
    "plt.show()\n",
    "\n",
    "rate = (np.log(data[m,-1,datatype])-np.log(data[m,-2,datatype]))/(np.log(nSizes[-1])-np.log(nSizes[-2]))\n",
    "rate"
   ]
  },
  {
   "cell_type": "code",
   "execution_count": 261,
   "metadata": {},
   "outputs": [
    {
     "name": "stdout",
     "output_type": "stream",
     "text": [
      "double\n"
     ]
    },
    {
     "data": {
      "image/png": "[encoded data removed]",
      "text/plain": [
       "<Figure size 432x288 with 1 Axes>"
      ]
     },
     "metadata": {
      "needs_background": "light"
     },
     "output_type": "display_data"
    },
    {
     "data": {
      "text/plain": [
       "2.7178167899437664"
      ]
     },
     "execution_count": 261,
     "metadata": {},
     "output_type": "execute_result"
    }
   ],
   "source": [
    "fig1, ax1 = plt.subplots()\n",
    "\n",
    "datatype = 1; print(datatypes[datatype])\n",
    "m = 0; plt.plot(nSizes,data[m,:,datatype],'x-',label=methods[m])\n",
    "m = 1; plt.plot(nSizes,data[m,:,datatype],'*-',label=methods[m])\n",
    "\n",
    "ax1.set_xscale(\"log\")\n",
    "ax1.set_yscale(\"log\")\n",
    "ax1.set_xticks(nSizes)\n",
    "ax1.get_xaxis().set_major_formatter(matplotlib.ticker.ScalarFormatter())\n",
    "\n",
    "plt.xlabel(\"n\")\n",
    "plt.ylabel(\"time (s)\")\n",
    "plt.legend()\n",
    "\n",
    "plt.tight_layout()\n",
    "plt.savefig(\"curvesWithNoMKL.pdf\")\n",
    "plt.show()\n",
    "\n",
    "rate = (np.log(data[m,-1,datatype])-np.log(data[m,-2,datatype]))/(np.log(nSizes[-1])-np.log(nSizes[-2]))\n",
    "rate"
   ]
  },
  {
   "cell_type": "code",
   "execution_count": 262,
   "metadata": {},
   "outputs": [],
   "source": [
    "data_mkl = np.ones([M,N,NT], dtype=np.float64) * 60 * 60 * 24\n",
    "\n",
    "executable = [\n",
    "    \"build_mkl/performance_tlapack\",\n",
    "    \"build_mkl/performance_tlapack\"\n",
    "]\n",
    "M = len(executable)\n",
    "\n",
    "methods = [\n",
    "    r\"$\\langle$T$\\rangle$LAPACK - C++ using MKL BLAS\",\n",
    "    r\"Eigen3 - C++ using MKL gees\"\n",
    "]\n",
    "\n",
    "for s in range(M):\n",
    "    for i in range(N):\n",
    "        n = nSizes[i]\n",
    "        for j in range(nRuns):\n",
    "            expr = executable[s]\n",
    "            output = !$expr {n} 0 | grep time\n",
    "            for k in range(NT):\n",
    "                data_mkl[s,i,k] = np.minimum( float(output[k].split()[2]), data_mkl[s,i,k] )"
   ]
  },
  {
   "cell_type": "code",
   "execution_count": 263,
   "metadata": {},
   "outputs": [
    {
     "name": "stdout",
     "output_type": "stream",
     "text": [
      "float\n"
     ]
    },
    {
     "data": {
      "image/png": "[encoded data removed]",
      "text/plain": [
       "<Figure size 432x288 with 1 Axes>"
      ]
     },
     "metadata": {
      "needs_background": "light"
     },
     "output_type": "display_data"
    },
    {
     "data": {
      "text/plain": [
       "1.4752284113717873"
      ]
     },
     "execution_count": 263,
     "metadata": {},
     "output_type": "execute_result"
    }
   ],
   "source": [
    "fig1, ax1 = plt.subplots()\n",
    "\n",
    "datatype = 0; print(datatypes[datatype])\n",
    "m = 0; plt.plot(nSizes,data_mkl[m,:,datatype],'x-',label=methods[m])\n",
    "m = 1; plt.plot(nSizes,data_mkl[m,:,datatype],'*-',label=methods[m])\n",
    "\n",
    "ax1.set_xscale(\"log\")\n",
    "ax1.set_yscale(\"log\")\n",
    "ax1.set_xticks(nSizes)\n",
    "ax1.get_xaxis().set_major_formatter(matplotlib.ticker.ScalarFormatter())\n",
    "\n",
    "plt.xlabel(\"n\")\n",
    "plt.ylabel(\"time (s)\")\n",
    "plt.legend()\n",
    "\n",
    "plt.tight_layout()\n",
    "plt.savefig(\"curvesWithMKL.pdf\")\n",
    "plt.show()\n",
    "\n",
    "rate = (np.log(data_mkl[m,-1,datatype])-np.log(data_mkl[m,-2,datatype]))/(np.log(nSizes[-1])-np.log(nSizes[-2]))\n",
    "rate"
   ]
  },
  {
   "cell_type": "code",
   "execution_count": 264,
   "metadata": {},
   "outputs": [
    {
     "name": "stdout",
     "output_type": "stream",
     "text": [
      "double\n"
     ]
    },
    {
     "data": {
      "image/png": "[encoded data removed]",
      "text/plain": [
       "<Figure size 432x288 with 1 Axes>"
      ]
     },
     "metadata": {
      "needs_background": "light"
     },
     "output_type": "display_data"
    },
    {
     "data": {
      "text/plain": [
       "1.650615023237321"
      ]
     },
     "execution_count": 264,
     "metadata": {},
     "output_type": "execute_result"
    }
   ],
   "source": [
    "fig1, ax1 = plt.subplots()\n",
    "\n",
    "datatype = 1; print(datatypes[datatype])\n",
    "m = 0; plt.plot(nSizes,data_mkl[m,:,datatype],'x-',label=methods[m])\n",
    "m = 1; plt.plot(nSizes,data_mkl[m,:,datatype],'*-',label=methods[m])\n",
    "\n",
    "ax1.set_xscale(\"log\")\n",
    "ax1.set_yscale(\"log\")\n",
    "ax1.set_xticks(nSizes)\n",
    "ax1.get_xaxis().set_major_formatter(matplotlib.ticker.ScalarFormatter())\n",
    "\n",
    "plt.xlabel(\"n\")\n",
    "plt.ylabel(\"time (s)\")\n",
    "plt.legend()\n",
    "\n",
    "plt.tight_layout()\n",
    "plt.savefig(\"curvesWithMKL.pdf\")\n",
    "plt.show()\n",
    "\n",
    "rate = (np.log(data_mkl[m,-1,datatype])-np.log(data_mkl[m,-2,datatype]))/(np.log(nSizes[-1])-np.log(nSizes[-2]))\n",
    "rate"
   ]
  }
 ],
 "metadata": {
  "kernelspec": {
   "display_name": "Python 3.8.10 64-bit",
   "language": "python",
   "name": "python3"
  },
  "language_info": {
   "codemirror_mode": {
    "name": "ipython",
    "version": 3
   },
   "file_extension": ".py",
   "mimetype": "text/x-python",
   "name": "python",
   "nbconvert_exporter": "python",
   "pygments_lexer": "ipython3",
   "version": "3.8.10"
  },
  "orig_nbformat": 4,
  "vscode": {
   "interpreter": {
    "hash": "31f2aee4e71d21fbe5cf8b01ff0e069b9275f58929596ceb00d14d90e3e16cd6"
   }
  }
 },
 "nbformat": 4,
 "nbformat_minor": 2
}
